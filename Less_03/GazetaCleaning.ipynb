{
  "nbformat": 4,
  "nbformat_minor": 0,
  "metadata": {
    "colab": {
      "provenance": [],
      "collapsed_sections": [],
      "machine_shape": "hm"
    },
    "kernelspec": {
      "name": "python3",
      "display_name": "Python 3"
    }
  },
  "cells": [
    {
      "cell_type": "code",
      "metadata": {
        "id": "v_csNaRToOGF",
        "colab": {
          "base_uri": "https://localhost:8080/"
        },
        "outputId": "21ebd1df-b6c6-425f-fe54-7e0b2c2c26cd"
      },
      "source": [
        "!pip install --upgrade razdel"
      ],
      "execution_count": null,
      "outputs": [
        {
          "output_type": "stream",
          "name": "stdout",
          "text": [
            "Requirement already satisfied: razdel in /usr/local/lib/python3.7/dist-packages (0.5.0)\n"
          ]
        }
      ]
    },
    {
      "cell_type": "code",
      "metadata": {
        "id": "QE59rwtYhsOD",
        "colab": {
          "base_uri": "https://localhost:8080/"
        },
        "outputId": "efe5d62b-6af9-45ee-f514-f41dccd1456a"
      },
      "source": [
        "!rm -f gazeta_raw.txt\n",
        "!wget https://www.dropbox.com/s/4fxj5wmt7tjr5f2/gazeta_raw.txt\n",
        "!rm -f gazeta_raw_new.jsonl\n",
        "!wget https://www.dropbox.com/s/gyv841mph04qweu/gazeta_raw_new.jsonl"
      ],
      "execution_count": null,
      "outputs": [
        {
          "output_type": "stream",
          "name": "stdout",
          "text": [
            "--2021-09-05 06:16:50--  https://www.dropbox.com/s/4fxj5wmt7tjr5f2/gazeta_raw.txt\n",
            "Resolving www.dropbox.com (www.dropbox.com)... 162.125.81.18, 2620:100:6035:18::a27d:5512\n",
            "Connecting to www.dropbox.com (www.dropbox.com)|162.125.81.18|:443... connected.\n",
            "HTTP request sent, awaiting response... 301 Moved Permanently\n",
            "Location: /s/raw/4fxj5wmt7tjr5f2/gazeta_raw.txt [following]\n",
            "--2021-09-05 06:16:50--  https://www.dropbox.com/s/raw/4fxj5wmt7tjr5f2/gazeta_raw.txt\n",
            "Reusing existing connection to www.dropbox.com:443.\n",
            "HTTP request sent, awaiting response... 302 Found\n",
            "Location: https://ucd004a74d626fe15424c049748c.dl.dropboxusercontent.com/cd/0/inline/BVkPPUBZThB8aMKeben03itLp965itdZGbn3RKUCGqHpoSJZEHnidehlR7sTZv4oJeHrZ7Mzn8sDVC4mB5ZigA9nw_1gIwICT2BJwDVRh6xzwhpIUaqE-GL2aTR9YIdsyk7cwHFd19QQtalekTChBZ3e/file# [following]\n",
            "--2021-09-05 06:16:51--  https://ucd004a74d626fe15424c049748c.dl.dropboxusercontent.com/cd/0/inline/BVkPPUBZThB8aMKeben03itLp965itdZGbn3RKUCGqHpoSJZEHnidehlR7sTZv4oJeHrZ7Mzn8sDVC4mB5ZigA9nw_1gIwICT2BJwDVRh6xzwhpIUaqE-GL2aTR9YIdsyk7cwHFd19QQtalekTChBZ3e/file\n",
            "Resolving ucd004a74d626fe15424c049748c.dl.dropboxusercontent.com (ucd004a74d626fe15424c049748c.dl.dropboxusercontent.com)... 162.125.81.15, 2620:100:6035:15::a27d:550f\n",
            "Connecting to ucd004a74d626fe15424c049748c.dl.dropboxusercontent.com (ucd004a74d626fe15424c049748c.dl.dropboxusercontent.com)|162.125.81.15|:443... connected.\n",
            "HTTP request sent, awaiting response... 200 OK\n",
            "Length: 704863137 (672M) [text/plain]\n",
            "Saving to: ‘gazeta_raw.txt’\n",
            "\n",
            "gazeta_raw.txt      100%[===================>] 672.21M  12.0MB/s    in 63s     \n",
            "\n",
            "2021-09-05 06:17:54 (10.7 MB/s) - ‘gazeta_raw.txt’ saved [704863137/704863137]\n",
            "\n",
            "--2021-09-05 06:17:54--  https://www.dropbox.com/s/gyv841mph04qweu/gazeta_raw_new.jsonl\n",
            "Resolving www.dropbox.com (www.dropbox.com)... 162.125.81.18, 2620:100:6035:18::a27d:5512\n",
            "Connecting to www.dropbox.com (www.dropbox.com)|162.125.81.18|:443... connected.\n",
            "HTTP request sent, awaiting response... 301 Moved Permanently\n",
            "Location: /s/raw/gyv841mph04qweu/gazeta_raw_new.jsonl [following]\n",
            "--2021-09-05 06:17:55--  https://www.dropbox.com/s/raw/gyv841mph04qweu/gazeta_raw_new.jsonl\n",
            "Reusing existing connection to www.dropbox.com:443.\n",
            "HTTP request sent, awaiting response... 302 Found\n",
            "Location: https://uc7e853a9eecb56e4703106b62a8.dl.dropboxusercontent.com/cd/0/inline/BVktNZZ9ftUcFAtO9fONO_sRy0mYjjqV0nf0w0ZzUl2M5Qb8Y2GCXzTEwrkAV5gIxUrNPH2hAu3Qe_6_7XKeH-mor9r3WkdBybqm-KhEeIl-U_QwKio4sXw8orM-3dMfTHu0BPIUiQvLk6zFDedk3IKi/file# [following]\n",
            "--2021-09-05 06:17:55--  https://uc7e853a9eecb56e4703106b62a8.dl.dropboxusercontent.com/cd/0/inline/BVktNZZ9ftUcFAtO9fONO_sRy0mYjjqV0nf0w0ZzUl2M5Qb8Y2GCXzTEwrkAV5gIxUrNPH2hAu3Qe_6_7XKeH-mor9r3WkdBybqm-KhEeIl-U_QwKio4sXw8orM-3dMfTHu0BPIUiQvLk6zFDedk3IKi/file\n",
            "Resolving uc7e853a9eecb56e4703106b62a8.dl.dropboxusercontent.com (uc7e853a9eecb56e4703106b62a8.dl.dropboxusercontent.com)... 162.125.81.15, 2620:100:6035:15::a27d:550f\n",
            "Connecting to uc7e853a9eecb56e4703106b62a8.dl.dropboxusercontent.com (uc7e853a9eecb56e4703106b62a8.dl.dropboxusercontent.com)|162.125.81.15|:443... connected.\n",
            "HTTP request sent, awaiting response... 200 OK\n",
            "Length: 151626140 (145M) [text/plain]\n",
            "Saving to: ‘gazeta_raw_new.jsonl’\n",
            "\n",
            "gazeta_raw_new.json 100%[===================>] 144.60M  7.82MB/s    in 15s     \n",
            "\n",
            "2021-09-05 06:18:11 (9.65 MB/s) - ‘gazeta_raw_new.jsonl’ saved [151626140/151626140]\n",
            "\n"
          ]
        }
      ]
    },
    {
      "cell_type": "code",
      "metadata": {
        "id": "QgD2nM8xhvkx"
      },
      "source": [
        "import json\n",
        "\n",
        "records = []\n",
        "with open(\"gazeta_raw.txt\", \"r\") as r:\n",
        "    for line in r:\n",
        "        records.append(json.loads(line))\n",
        "with open(\"gazeta_raw_new.jsonl\", \"r\") as r:\n",
        "    for line in r:\n",
        "        records.append(json.loads(line))\n",
        "records.sort(key=lambda x: x[\"date\"])"
      ],
      "execution_count": null,
      "outputs": []
    },
    {
      "cell_type": "code",
      "metadata": {
        "id": "y8rJduVGn1BS",
        "colab": {
          "base_uri": "https://localhost:8080/"
        },
        "outputId": "c051ff01-36fd-4971-f043-040fba867f8a"
      },
      "source": [
        "from razdel import tokenize\n",
        "\n",
        "intersections = []\n",
        "summary_words_counts = []\n",
        "good_records = []\n",
        "short_summaries_count = 0\n",
        "long_summaries_count = 0\n",
        "long_texts_count = 0\n",
        "big_intersection_count = 0\n",
        "small_intersection_count = 0\n",
        "question_count = 0\n",
        "bad_ending_count = 0\n",
        "personal_count = 0\n",
        "cinema_count = 0\n",
        "bad_text_count = 0\n",
        "bad_title_count = 0\n",
        "bad_date_count = 0\n",
        "travels_count = 0\n",
        "editors_count = 0\n",
        "lifestyle_count = 0\n",
        "self_ref_count = 0\n",
        "for i, record in enumerate(records):\n",
        "    text = record[\"text\"]\n",
        "    if \"summary\" not in record or not record[\"summary\"]:\n",
        "        continue\n",
        "    summary = record[\"summary\"]\n",
        "    title = record[\"title\"]\n",
        "    text_words = [word.text for word in tokenize(text)]\n",
        "    summary_words = [word.text for word in tokenize(summary)]\n",
        "    text_unique_words = set(text_words)\n",
        "    summary_unique_words = set(summary_words)\n",
        "    intersection =  len(summary_unique_words.intersection(text_unique_words)) / float(len(summary_unique_words))\n",
        "    if i % 5000 == 1:\n",
        "        print(\"Records count: \", i)\n",
        "        print(\"Intersection part: \", sum(intersections)/len(intersections) if len(intersections) else 0)\n",
        "        print(\"Short summaries count:\", short_summaries_count)\n",
        "        print(\"Long summaries count:\", long_summaries_count)\n",
        "        print(\"Long texts count:\", long_texts_count)\n",
        "        print(\"Big intersection count:\", big_intersection_count)\n",
        "        print(\"Small intersection count:\", small_intersection_count)\n",
        "        print(\"Question count:\", question_count)\n",
        "        print(\"Bad ending count:\", bad_ending_count)\n",
        "        print(\"Personal count:\", personal_count)\n",
        "        print(\"Cinema count:\", cinema_count)\n",
        "        print(\"Bad text count:\", bad_text_count)\n",
        "        print(\"Bad title count:\", bad_title_count)\n",
        "        print(\"Bad date count:\", bad_date_count)\n",
        "        print(\"Travels count:\", travels_count)\n",
        "        print(\"Lifestyle count: \", lifestyle_count)\n",
        "        print(\"Editors count: \", editors_count)\n",
        "        print(\"Self reference count: \", self_ref_count)\n",
        "        print()\n",
        "    if len(summary_words) < 15:\n",
        "        short_summaries_count += 1\n",
        "        continue\n",
        "    if len(summary_words) > 85:\n",
        "        long_summaries_count += 1\n",
        "        continue\n",
        "    if len(text_words) > 1500:\n",
        "        long_texts_count += 1\n",
        "        continue\n",
        "    if intersection > 0.92:\n",
        "        big_intersection_count += 1\n",
        "        continue\n",
        "    if intersection < 0.3:\n",
        "        small_intersection_count += 1\n",
        "        continue\n",
        "    if \"?\" in summary and not \"?»\" in summary:\n",
        "        question_count += 1\n",
        "        continue\n",
        "    if not (summary.endswith(\".\") or summary.endswith(\"!\") or summary.endswith(\"»\")):\n",
        "        bad_ending_count += 1\n",
        "        continue\n",
        "    if \"«личный опыт»\" in text.lower():\n",
        "        personal_count += 1\n",
        "        continue\n",
        "    if \"путевых заметок\" in text.lower() or \"мы продолжаем серию\" in text.lower():\n",
        "        travels_count += 1\n",
        "        continue\n",
        "    if \"В прокат\" in summary:\n",
        "        cinema_count += 1\n",
        "        continue\n",
        "    if \"жизни»\" in summary and \"«Стил\" in summary or \"жизни»\" in text and \"«Стил\" in text:\n",
        "        lifestyle_count += 1\n",
        "        continue\n",
        "    if title.startswith(\"Как не\") or title.startswith(\"Куда съездить\") or title.startswith(\"Куда податься\") or title.startswith(\"Куда поехать\") or \"!\" in title:\n",
        "        bad_title_count += 1\n",
        "        continue\n",
        "    if \"http\" in text or \"Тел:\" in text:\n",
        "        bad_text_count += 1\n",
        "        continue\n",
        "    if record[\"date\"] < \"2010-06-01 00:00:00\":\n",
        "        bad_date_count += 1\n",
        "        continue\n",
        "    if \"от редакции\" in text.lower():\n",
        "        editors_count += 1\n",
        "        continue\n",
        "    if \"материале\" in summary.lower() or \"Газет\" in summary:\n",
        "        self_ref_count += 1\n",
        "        continue\n",
        "    intersections.append(intersection)\n",
        "    summary_words_counts.append(len(summary_words))\n",
        "    record.pop(\"topics\", None)\n",
        "    record.pop(\"edition\", None)\n",
        "    good_records.append(record)"
      ],
      "execution_count": null,
      "outputs": [
        {
          "output_type": "stream",
          "name": "stdout",
          "text": [
            "Records count:  1\n",
            "Intersection part:  0\n",
            "Short summaries count: 0\n",
            "Long summaries count: 0\n",
            "Long texts count: 0\n",
            "Big intersection count: 0\n",
            "Small intersection count: 0\n",
            "Question count: 1\n",
            "Bad ending count: 0\n",
            "Personal count: 0\n",
            "Cinema count: 0\n",
            "Bad text count: 0\n",
            "Bad title count: 0\n",
            "Bad date count: 0\n",
            "Travels count: 0\n",
            "Lifestyle count:  0\n",
            "Editors count:  0\n",
            "Self reference count:  0\n",
            "\n",
            "Records count:  5001\n",
            "Intersection part:  0.6274226223672419\n",
            "Short summaries count: 54\n",
            "Long summaries count: 42\n",
            "Long texts count: 273\n",
            "Big intersection count: 35\n",
            "Small intersection count: 178\n",
            "Question count: 130\n",
            "Bad ending count: 40\n",
            "Personal count: 306\n",
            "Cinema count: 39\n",
            "Bad text count: 108\n",
            "Bad title count: 35\n",
            "Bad date count: 3161\n",
            "Travels count: 6\n",
            "Lifestyle count:  1\n",
            "Editors count:  0\n",
            "Self reference count:  0\n",
            "\n",
            "Records count:  10001\n",
            "Intersection part:  0.6185009220221531\n",
            "Short summaries count: 73\n",
            "Long summaries count: 68\n",
            "Long texts count: 377\n",
            "Big intersection count: 61\n",
            "Small intersection count: 229\n",
            "Question count: 154\n",
            "Bad ending count: 72\n",
            "Personal count: 320\n",
            "Cinema count: 115\n",
            "Bad text count: 120\n",
            "Bad title count: 54\n",
            "Bad date count: 3161\n",
            "Travels count: 8\n",
            "Lifestyle count:  1\n",
            "Editors count:  3\n",
            "Self reference count:  0\n",
            "\n",
            "Records count:  15001\n",
            "Intersection part:  0.6222135809912924\n",
            "Short summaries count: 108\n",
            "Long summaries count: 87\n",
            "Long texts count: 501\n",
            "Big intersection count: 119\n",
            "Small intersection count: 256\n",
            "Question count: 166\n",
            "Bad ending count: 94\n",
            "Personal count: 342\n",
            "Cinema count: 179\n",
            "Bad text count: 128\n",
            "Bad title count: 68\n",
            "Bad date count: 3161\n",
            "Travels count: 10\n",
            "Lifestyle count:  2\n",
            "Editors count:  4\n",
            "Self reference count:  0\n",
            "\n",
            "Records count:  20001\n",
            "Intersection part:  0.6219899756388847\n",
            "Short summaries count: 126\n",
            "Long summaries count: 109\n",
            "Long texts count: 626\n",
            "Big intersection count: 150\n",
            "Small intersection count: 280\n",
            "Question count: 181\n",
            "Bad ending count: 118\n",
            "Personal count: 368\n",
            "Cinema count: 257\n",
            "Bad text count: 136\n",
            "Bad title count: 88\n",
            "Bad date count: 3161\n",
            "Travels count: 10\n",
            "Lifestyle count:  2\n",
            "Editors count:  7\n",
            "Self reference count:  0\n",
            "\n",
            "Records count:  25001\n",
            "Intersection part:  0.6209416474923669\n",
            "Short summaries count: 141\n",
            "Long summaries count: 129\n",
            "Long texts count: 763\n",
            "Big intersection count: 177\n",
            "Small intersection count: 322\n",
            "Question count: 199\n",
            "Bad ending count: 141\n",
            "Personal count: 413\n",
            "Cinema count: 319\n",
            "Bad text count: 150\n",
            "Bad title count: 108\n",
            "Bad date count: 3161\n",
            "Travels count: 18\n",
            "Lifestyle count:  2\n",
            "Editors count:  8\n",
            "Self reference count:  0\n",
            "\n",
            "Records count:  30001\n",
            "Intersection part:  0.6226185041611454\n",
            "Short summaries count: 164\n",
            "Long summaries count: 193\n",
            "Long texts count: 940\n",
            "Big intersection count: 223\n",
            "Small intersection count: 380\n",
            "Question count: 233\n",
            "Bad ending count: 163\n",
            "Personal count: 525\n",
            "Cinema count: 376\n",
            "Bad text count: 165\n",
            "Bad title count: 127\n",
            "Bad date count: 3161\n",
            "Travels count: 27\n",
            "Lifestyle count:  2\n",
            "Editors count:  20\n",
            "Self reference count:  0\n",
            "\n",
            "Records count:  35001\n",
            "Intersection part:  0.6219998664635469\n",
            "Short summaries count: 203\n",
            "Long summaries count: 307\n",
            "Long texts count: 1149\n",
            "Big intersection count: 248\n",
            "Small intersection count: 433\n",
            "Question count: 268\n",
            "Bad ending count: 188\n",
            "Personal count: 671\n",
            "Cinema count: 447\n",
            "Bad text count: 178\n",
            "Bad title count: 150\n",
            "Bad date count: 3161\n",
            "Travels count: 41\n",
            "Lifestyle count:  2\n",
            "Editors count:  42\n",
            "Self reference count:  1\n",
            "\n",
            "Records count:  40001\n",
            "Intersection part:  0.6178903555809725\n",
            "Short summaries count: 279\n",
            "Long summaries count: 389\n",
            "Long texts count: 1483\n",
            "Big intersection count: 269\n",
            "Small intersection count: 540\n",
            "Question count: 327\n",
            "Bad ending count: 219\n",
            "Personal count: 782\n",
            "Cinema count: 629\n",
            "Bad text count: 227\n",
            "Bad title count: 188\n",
            "Bad date count: 3161\n",
            "Travels count: 58\n",
            "Lifestyle count:  9\n",
            "Editors count:  68\n",
            "Self reference count:  3\n",
            "\n",
            "Records count:  45001\n",
            "Intersection part:  0.6196775516254057\n",
            "Short summaries count: 292\n",
            "Long summaries count: 435\n",
            "Long texts count: 1680\n",
            "Big intersection count: 318\n",
            "Small intersection count: 564\n",
            "Question count: 365\n",
            "Bad ending count: 237\n",
            "Personal count: 787\n",
            "Cinema count: 672\n",
            "Bad text count: 336\n",
            "Bad title count: 213\n",
            "Bad date count: 3161\n",
            "Travels count: 58\n",
            "Lifestyle count:  101\n",
            "Editors count:  71\n",
            "Self reference count:  6\n",
            "\n",
            "Records count:  50001\n",
            "Intersection part:  0.6247629751888795\n",
            "Short summaries count: 293\n",
            "Long summaries count: 481\n",
            "Long texts count: 1815\n",
            "Big intersection count: 493\n",
            "Small intersection count: 569\n",
            "Question count: 387\n",
            "Bad ending count: 245\n",
            "Personal count: 787\n",
            "Cinema count: 674\n",
            "Bad text count: 387\n",
            "Bad title count: 248\n",
            "Bad date count: 3161\n",
            "Travels count: 58\n",
            "Lifestyle count:  101\n",
            "Editors count:  72\n",
            "Self reference count:  7\n",
            "\n",
            "Records count:  55001\n",
            "Intersection part:  0.630140191859747\n",
            "Short summaries count: 293\n",
            "Long summaries count: 520\n",
            "Long texts count: 1930\n",
            "Big intersection count: 636\n",
            "Small intersection count: 573\n",
            "Question count: 415\n",
            "Bad ending count: 257\n",
            "Personal count: 787\n",
            "Cinema count: 674\n",
            "Bad text count: 439\n",
            "Bad title count: 291\n",
            "Bad date count: 3161\n",
            "Travels count: 58\n",
            "Lifestyle count:  101\n",
            "Editors count:  73\n",
            "Self reference count:  11\n",
            "\n",
            "Records count:  60001\n",
            "Intersection part:  0.6350598639028777\n",
            "Short summaries count: 293\n",
            "Long summaries count: 562\n",
            "Long texts count: 2026\n",
            "Big intersection count: 766\n",
            "Small intersection count: 576\n",
            "Question count: 455\n",
            "Bad ending count: 268\n",
            "Personal count: 787\n",
            "Cinema count: 674\n",
            "Bad text count: 493\n",
            "Bad title count: 341\n",
            "Bad date count: 3161\n",
            "Travels count: 58\n",
            "Lifestyle count:  101\n",
            "Editors count:  73\n",
            "Self reference count:  15\n",
            "\n",
            "Records count:  65001\n",
            "Intersection part:  0.6389049588954709\n",
            "Short summaries count: 293\n",
            "Long summaries count: 621\n",
            "Long texts count: 2133\n",
            "Big intersection count: 886\n",
            "Small intersection count: 579\n",
            "Question count: 485\n",
            "Bad ending count: 278\n",
            "Personal count: 787\n",
            "Cinema count: 674\n",
            "Bad text count: 535\n",
            "Bad title count: 408\n",
            "Bad date count: 3161\n",
            "Travels count: 59\n",
            "Lifestyle count:  101\n",
            "Editors count:  73\n",
            "Self reference count:  18\n",
            "\n",
            "Records count:  70001\n",
            "Intersection part:  0.6415479174291665\n",
            "Short summaries count: 293\n",
            "Long summaries count: 671\n",
            "Long texts count: 2233\n",
            "Big intersection count: 936\n",
            "Small intersection count: 581\n",
            "Question count: 521\n",
            "Bad ending count: 291\n",
            "Personal count: 787\n",
            "Cinema count: 674\n",
            "Bad text count: 563\n",
            "Bad title count: 455\n",
            "Bad date count: 3161\n",
            "Travels count: 59\n",
            "Lifestyle count:  101\n",
            "Editors count:  73\n",
            "Self reference count:  20\n",
            "\n",
            "Records count:  75001\n",
            "Intersection part:  0.6438603822124906\n",
            "Short summaries count: 296\n",
            "Long summaries count: 691\n",
            "Long texts count: 2340\n",
            "Big intersection count: 1068\n",
            "Small intersection count: 584\n",
            "Question count: 532\n",
            "Bad ending count: 304\n",
            "Personal count: 787\n",
            "Cinema count: 674\n",
            "Bad text count: 601\n",
            "Bad title count: 468\n",
            "Bad date count: 3161\n",
            "Travels count: 59\n",
            "Lifestyle count:  101\n",
            "Editors count:  73\n",
            "Self reference count:  23\n",
            "\n",
            "Records count:  80001\n",
            "Intersection part:  0.6450004271003915\n",
            "Short summaries count: 305\n",
            "Long summaries count: 784\n",
            "Long texts count: 2547\n",
            "Big intersection count: 1186\n",
            "Small intersection count: 590\n",
            "Question count: 540\n",
            "Bad ending count: 317\n",
            "Personal count: 787\n",
            "Cinema count: 674\n",
            "Bad text count: 641\n",
            "Bad title count: 473\n",
            "Bad date count: 3161\n",
            "Travels count: 59\n",
            "Lifestyle count:  101\n",
            "Editors count:  74\n",
            "Self reference count:  705\n",
            "\n",
            "Records count:  85001\n",
            "Intersection part:  0.6453937354835813\n",
            "Short summaries count: 313\n",
            "Long summaries count: 899\n",
            "Long texts count: 2712\n",
            "Big intersection count: 1240\n",
            "Small intersection count: 600\n",
            "Question count: 547\n",
            "Bad ending count: 328\n",
            "Personal count: 787\n",
            "Cinema count: 675\n",
            "Bad text count: 692\n",
            "Bad title count: 474\n",
            "Bad date count: 3161\n",
            "Travels count: 59\n",
            "Lifestyle count:  101\n",
            "Editors count:  74\n",
            "Self reference count:  1603\n",
            "\n",
            "Records count:  90001\n",
            "Intersection part:  0.644736272956365\n",
            "Short summaries count: 328\n",
            "Long summaries count: 1061\n",
            "Long texts count: 2855\n",
            "Big intersection count: 1265\n",
            "Small intersection count: 611\n",
            "Question count: 552\n",
            "Bad ending count: 351\n",
            "Personal count: 787\n",
            "Cinema count: 677\n",
            "Bad text count: 726\n",
            "Bad title count: 479\n",
            "Bad date count: 3161\n",
            "Travels count: 59\n",
            "Lifestyle count:  102\n",
            "Editors count:  74\n",
            "Self reference count:  3100\n",
            "\n"
          ]
        }
      ]
    },
    {
      "cell_type": "code",
      "metadata": {
        "id": "X6DDhdmDDN1h"
      },
      "source": [
        "good_records.sort(key=lambda x: x[\"date\"])"
      ],
      "execution_count": null,
      "outputs": []
    },
    {
      "cell_type": "code",
      "metadata": {
        "id": "dIqe1_bOf2X7",
        "colab": {
          "base_uri": "https://localhost:8080/"
        },
        "outputId": "db8dd9a8-252d-4fab-8d1e-cd1ab4b6658d"
      },
      "source": [
        "test_records = [r for r in good_records if r[\"date\"] > '2019-10-01' and r[\"date\"] < '2020-03-24']\n",
        "len(test_records)"
      ],
      "execution_count": null,
      "outputs": [
        {
          "output_type": "execute_result",
          "data": {
            "text/plain": [
              "5767"
            ]
          },
          "metadata": {},
          "execution_count": 33
        }
      ]
    },
    {
      "cell_type": "code",
      "metadata": {
        "colab": {
          "base_uri": "https://localhost:8080/"
        },
        "id": "P6Glw5ZE-PNx",
        "outputId": "5cfe99d2-a2a1-4e93-a45e-832e7234b616"
      },
      "source": [
        "from collections import Counter\n",
        "Counter([r[\"url\"].split(\"/\")[3] for r in test_records]).most_common()"
      ],
      "execution_count": null,
      "outputs": [
        {
          "output_type": "execute_result",
          "data": {
            "text/plain": [
              "[('social', 1233),\n",
              " ('politics', 1098),\n",
              " ('business', 931),\n",
              " ('army', 756),\n",
              " ('culture', 676),\n",
              " ('science', 304),\n",
              " ('sport', 275),\n",
              " ('tech', 234),\n",
              " ('lifestyle', 183),\n",
              " ('auto', 68),\n",
              " ('comments', 9)]"
            ]
          },
          "metadata": {},
          "execution_count": 34
        }
      ]
    },
    {
      "cell_type": "code",
      "metadata": {
        "id": "BdnbsuJPsa50",
        "colab": {
          "base_uri": "https://localhost:8080/"
        },
        "outputId": "d4495e34-9de4-4bd1-d475-390bc34394cf"
      },
      "source": [
        "new_records = [r for r in good_records if r[\"date\"] >= '2020-03-24']\n",
        "len(new_records)"
      ],
      "execution_count": null,
      "outputs": [
        {
          "output_type": "execute_result",
          "data": {
            "text/plain": [
              "10714"
            ]
          },
          "metadata": {},
          "execution_count": 35
        }
      ]
    },
    {
      "cell_type": "code",
      "metadata": {
        "colab": {
          "base_uri": "https://localhost:8080/"
        },
        "id": "GdkyyCGd4BON",
        "outputId": "b4ab454d-a5f9-4ae6-b256-78b9ca20da3e"
      },
      "source": [
        "new_records[-1]"
      ],
      "execution_count": null,
      "outputs": [
        {
          "output_type": "execute_result",
          "data": {
            "text/plain": [
              "{'authors': ['Михаил Котляр'],\n",
              " 'date': '2021-09-03 11:50:27',\n",
              " 'summary': 'Токио пока не дал гарантий Москве, что не станет размещать на своей территории американские ракеты, заявил Владимир Путин. Это, по его словам, препятствует заключению мирного соглашения с Японией. Его отсутствие президент назвал нонсенсом.',\n",
              " 'text': 'Москва никогда не отказывалась обсуждать с Токио мирный договор, который так и не был заключен между двумя странами по итогам Второй мировой войны. Об этом заявил президент Владимир Путин на пленарном заседании Восточного экономического форума (ВЭФ). Трансляцию ведет телеканал «Россия 24». «Считаю, что отсутствие такого документа в наших отношениях — это нонсенс. Мы всегда говорили, что нужно уважать закрепленные в международных документах результаты Второй мировой войны. И мы никогда не отказываемся от диалога по мирному договору», — сказал глава государства. Он добавил, что принятая в прошлом году поправка к Конституции о неделимости российской территории и принадлежности Южных Курил не меняет подходов Москвы и ее заинтересованности в мирном соглашении. Однако позиция японских коллег нередко меняется. Путин подчеркнул, что и Россия, и Япония заинтересованы в «абсолютной» нормализации двусторонних отношений, поскольку у стран есть интерес для дальнейшего развития стратегического сотрудничества. Однако одним из препятствий для подписания документа является отсутствие гарантий со стороны Токио о неразмещении на своей территории вооруженных сил третьих стран. «Мы должны обеспечить мирное будущее. Мы должны быть гарантированы от неожиданностей, связанных с возможным размещением американских вооруженных сил, тем более ракетных ударных систем вблизи от наших границ. Эти вопросы поставлены перед японской стороной, ответа мы пока не получили. В этом смысле мяч пока на их стороне», — подчеркнул президент. Выступая на ВЭФ 3 сентября, Путин также объявил о создании «беспрецедентного налогового режима для бизнеса» на Курильских островах. Речь идет об освобождении предпринимателей от налогов на прибыль, имущество, землю сроком на 10 лет. Для них также снизят обязательные страховые выплаты и введут таможенные льготы. Воспользоваться преференциями смогут в том числе и зарубежные инвесторы и бизнесмены. Президент выразил надежду, что новый налоговый режим на Курилах даст результаты для развития островов — в первую очередь, в отраслях туризма, морского промысла и переработки. Главным препятствием для заключения мирного договора между Россией и Японией с 1940-х годов является статус южных островов Курильской гряды — Итурупа, Кунашира, Шикотана и Хамобаи. Они вошли в состав СССР по итогам Второй мировой войны, сейчас являются частью Сахалинской области. Однако Токио считает их временно оккупированными территориями. Курильский вопрос обещал решить бывший премьер-министр Японии Синдзо Абэ , однако активно ведущемуся с 2015 года диалогу помешала пандемия коронавирусной инфекции и отставка Абэ в прошлом году. Его преемник Ёсихидэ Суга в 2021 году заявлял, что готов продолжить переговоры с Москвой. В июле Путин заявлял, что Россия подготовила для Японии уникальные предложения по участию в развитии южных Курил. В конце августа полпред президента в ДФО Юрий Трутнев рассказал, что на островах будет создана фактически офшорная зона — территорию освободят от НДС и практически всех остальных налогов (за исключением НДФЛ), дадут иные льготы. Точные параметры преференций пока еще обсуждаются в правительстве. Трутнев заявлял, что офшор позволит «поставить точку» в вопросах принадлежности Курильских островов. Когда именно заработает новый налоговый режим, не уточнялось. Предполагается, что он будет действовать не менее 10 лет. Среди уже известных параметров — снижение ставки обязательных платежей по страховым взносам на 7,6%. Премьер-министр Михаил Мишустин уверял, что курильский офшор не будет аналогом внутренних офшоров в Калмыкии, Ингушетии, на Алтае и других российских регионах, которые создавались в 90-е годы прошлого века. Тогда, по словам премьера, они были нацелены на снижение налоговой нагрузки, а новая зона должна привлечь инвесторов на Курилы.',\n",
              " 'title': 'Путин объяснил, что мешает заключению мира с Японией ',\n",
              " 'url': 'https://www.gazeta.ru/politics/2021/09/03_a_13946858.shtml'}"
            ]
          },
          "metadata": {},
          "execution_count": 42
        }
      ]
    },
    {
      "cell_type": "code",
      "metadata": {
        "colab": {
          "base_uri": "https://localhost:8080/",
          "height": 281
        },
        "id": "VBR--Jn44F5O",
        "outputId": "0aff9919-6b68-44a5-8a54-d9c0bcb2e504"
      },
      "source": [
        "import pandas as pd\n",
        "dates = [r[\"date\"].split(\" \")[0] for r in new_records]\n",
        "df = pd.DataFrame({'date': pd.to_datetime(dates)})\n",
        "s = df['date'].value_counts().sort_index()\n",
        "s.plot()"
      ],
      "execution_count": null,
      "outputs": [
        {
          "output_type": "execute_result",
          "data": {
            "text/plain": [
              "<matplotlib.axes._subplots.AxesSubplot at 0x7fe91d7adf90>"
            ]
          },
          "metadata": {},
          "execution_count": 43
        },
        {
          "output_type": "display_data",
          "data": {
            "image/png": "[encoded data removed]",
            "text/plain": [
              "<Figure size 432x288 with 1 Axes>"
            ]
          },
          "metadata": {
            "needs_background": "light"
          }
        }
      ]
    },
    {
      "cell_type": "code",
      "metadata": {
        "colab": {
          "base_uri": "https://localhost:8080/"
        },
        "id": "MfeRGV2q53At",
        "outputId": "9c76c4a0-c856-47e7-f0f6-e78ad24d701d"
      },
      "source": [
        "from collections import Counter\n",
        "Counter([r[\"url\"].split(\"/\")[3] for r in new_records]).most_common()"
      ],
      "execution_count": null,
      "outputs": [
        {
          "output_type": "execute_result",
          "data": {
            "text/plain": [
              "[('politics', 2668),\n",
              " ('social', 2324),\n",
              " ('business', 1394),\n",
              " ('culture', 1335),\n",
              " ('science', 1101),\n",
              " ('army', 1035),\n",
              " ('tech', 698),\n",
              " ('auto', 133),\n",
              " ('economics', 22),\n",
              " ('sport', 3),\n",
              " ('comments', 1)]"
            ]
          },
          "metadata": {},
          "execution_count": 44
        }
      ]
    },
    {
      "cell_type": "code",
      "metadata": {
        "id": "0xTvJOx5-ZXa"
      },
      "source": [
        "import json\n",
        "\n",
        "with open(\"gazeta_new.jsonl\", \"w\") as w:\n",
        "    for r in new_records:\n",
        "        r = {\n",
        "             \"date\": r[\"date\"],\n",
        "             \"url\": r[\"url\"],\n",
        "             \"summary\": r[\"summary\"],\n",
        "             \"title\": r[\"title\"],\n",
        "             \"text\": r[\"text\"]\n",
        "        }\n",
        "        w.write(json.dumps(r, ensure_ascii=False) + \"\\n\")"
      ],
      "execution_count": null,
      "outputs": []
    },
    {
      "cell_type": "code",
      "metadata": {
        "id": "Zjc0jHUAmo9X"
      },
      "source": [
        "import json\n",
        "\n",
        "with open(\"gazeta_all.jsonl\", \"w\") as w:\n",
        "    for r in good_records:\n",
        "        r = {\n",
        "             \"date\": r[\"date\"],\n",
        "             \"url\": r[\"url\"],\n",
        "             \"summary\": r[\"summary\"],\n",
        "             \"title\": r[\"title\"],\n",
        "             \"text\": r[\"text\"]\n",
        "        }\n",
        "        w.write(json.dumps(r, ensure_ascii=False) + \"\\n\")"
      ],
      "execution_count": null,
      "outputs": []
    },
    {
      "cell_type": "code",
      "metadata": {
        "id": "tJJVIp-4nJ3-"
      },
      "source": [
        "import sys\n",
        "import json\n",
        "\n",
        "with open(\"gazeta_all.jsonl\") as r, open(\"gazeta_train.jsonl\", \"w\") as train, open(\"gazeta_val.jsonl\", \"w\") as val, open(\"gazeta_test.jsonl\", \"w\") as test:\n",
        "    used_urls = set()\n",
        "    train_records = []\n",
        "    val_records = []\n",
        "    test_records = []\n",
        "    for line in r:\n",
        "        record = json.loads(line)\n",
        "        if record[\"url\"] in used_urls:\n",
        "            continue\n",
        "        used_urls.add(record[\"url\"])\n",
        "        if record[\"date\"] < \"2020-01-01\":\n",
        "            f = train_records\n",
        "        elif record[\"date\"] < \"2020-09-01\":\n",
        "            f = val_records\n",
        "        else:\n",
        "            f = test_records\n",
        "        f.append(record)\n",
        "    train_records.sort(key=lambda x: x.get(\"date\"))\n",
        "    val_records.sort(key=lambda x: x.get(\"date\"))\n",
        "    test_records.sort(key=lambda x: x.get(\"date\"))\n",
        "    for r in train_records:\n",
        "        train.write(json.dumps(r, ensure_ascii=False) + \"\\n\")\n",
        "    for r in val_records:\n",
        "        val.write(json.dumps(r, ensure_ascii=False) + \"\\n\")\n",
        "    for r in test_records:\n",
        "        test.write(json.dumps(r, ensure_ascii=False) + \"\\n\")"
      ],
      "execution_count": null,
      "outputs": []
    },
    {
      "cell_type": "code",
      "metadata": {
        "colab": {
          "base_uri": "https://localhost:8080/"
        },
        "id": "w_dST4BDqQgS",
        "outputId": "a7700b2a-ead0-4e1a-a9d8-233065645713"
      },
      "source": [
        "!cat gazeta_train.jsonl | wc -l\n",
        "!cat gazeta_val.jsonl | wc -l\n",
        "!cat gazeta_test.jsonl | wc -l"
      ],
      "execution_count": null,
      "outputs": [
        {
          "output_type": "stream",
          "name": "stdout",
          "text": [
            "60964\n",
            "6369\n",
            "6793\n"
          ]
        }
      ]
    },
    {
      "cell_type": "code",
      "metadata": {
        "colab": {
          "base_uri": "https://localhost:8080/"
        },
        "id": "psgySAY4nJ_Q",
        "outputId": "3524dba6-487b-415a-b695-fa43ca75b113"
      },
      "source": [
        "!tar -czvf gazeta_jsonl_v2.tar.gz gazeta_train.jsonl gazeta_val.jsonl gazeta_test.jsonl"
      ],
      "execution_count": null,
      "outputs": [
        {
          "output_type": "stream",
          "name": "stdout",
          "text": [
            "gazeta_train.jsonl\n",
            "gazeta_val.jsonl\n",
            "gazeta_test.jsonl\n"
          ]
        }
      ]
    },
    {
      "cell_type": "code",
      "metadata": {
        "id": "ZBkKP6xgr6Fv"
      },
      "source": [],
      "execution_count": null,
      "outputs": []
    }
  ]
}